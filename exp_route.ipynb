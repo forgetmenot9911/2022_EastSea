{
 "cells": [
  {
   "cell_type": "markdown",
   "metadata": {},
   "source": [
    "# 数据获取"
   ]
  },
  {
   "cell_type": "markdown",
   "metadata": {},
   "source": [
    "## 船用气象仪数据"
   ]
  },
  {
   "cell_type": "code",
   "execution_count": null,
   "metadata": {
    "ExecuteTime": {
     "end_time": "2022-05-29T07:43:52.434857Z",
     "start_time": "2022-05-29T07:43:44.081506Z"
    }
   },
   "outputs": [],
   "source": [
    "import pandas as pd \n",
    "def read_routell(date):\n",
    "    import warnings;warnings.filterwarnings('ignore')\n",
    "    ll_dir = 'E:/programming/code_2022_5/route/经纬度走行气象数据/'\n",
    "    df = pd.read_table(ll_dir+date+'.TXT',sep=',',header=None,usecols=range(0,30))\n",
    "    pd.set_option('display.max_columns', None)\n",
    "    df.columns=['output_mark','yymmddhhmmss','0W1Bj','lat','SN','lon','EW',\n",
    "                'speed_GPS','orient_GPS','GPS_situa',\n",
    "                'speed_zhenFeng','speed_source','speed_valid',\n",
    "                'orient_zhenFeng','orient_source','orient_valid',\n",
    "               'speed_relative','orient_relative','speed_true','orient_true',\n",
    "               'speed_true_1min','orient_true_1min','speed_true_10min','orient_true_10min',\n",
    "               'press','press_1min','temp','temp_1min','rh','rh_1min']\n",
    "    return df\n",
    "df = read_routell('20220410')\n",
    "df=df.append(read_routell('20220411'))\n",
    "df=df.append(read_routell('20220412'))\n",
    "df=df.append(read_routell('20220413'))\n",
    "df=df.append(read_routell('20220414'))\n",
    "df=df.append(read_routell('20220415'))\n",
    "df=df.append(read_routell('20220416'))\n",
    "df=df.append(read_routell('20220417'))\n",
    "df=df.append(read_routell('20220418'))\n",
    "df=df.append(read_routell('20220419'))\n",
    "df=df.append(read_routell('20220420'))\n",
    "df=df.append(read_routell('20220421'))\n",
    "df=df.append(read_routell('20220422'))\n",
    "df=df.append(read_routell('20220423'))\n",
    "df=df.append(read_routell('20220424'))\n",
    "df=df.append(read_routell('20220425'))\n",
    "df=df.append(read_routell('20220426'))\n",
    "# pd.set_option('display.max_rows', None)    #显示所有行\n",
    "df = df.reset_index()\n",
    "display(df)"
   ]
  },
  {
   "cell_type": "markdown",
   "metadata": {},
   "source": [
    "## PDF-站位数据"
   ]
  },
  {
   "cell_type": "code",
   "execution_count": null,
   "metadata": {
    "ExecuteTime": {
     "end_time": "2022-05-29T07:43:56.169732Z",
     "start_time": "2022-05-29T07:43:52.436832Z"
    },
    "scrolled": false
   },
   "outputs": [],
   "source": [
    "def read_spots(dir_name):\n",
    "    import pandas as pd \n",
    "    import datetime\n",
    "    import warnings;warnings.filterwarnings('ignore')\n",
    "    df = pd.read_excel(dir_name)\n",
    "    df.columns=['index','spot_name','lon','lat','depth']\n",
    "    display(df)\n",
    "    return df\n",
    "spots = read_spots('E:/programming/code_2022_5/route/spots/spots_info.xlsx')\n",
    "# 剔除本次航程未抵达的站位\n",
    "spots = spots[(spots.spot_name != 'YE-1') & (spots.spot_name != 'YE-2')]\n",
    "display(spots)"
   ]
  },
  {
   "cell_type": "markdown",
   "metadata": {},
   "source": [
    "# 数据清洗"
   ]
  },
  {
   "cell_type": "code",
   "execution_count": null,
   "metadata": {
    "ExecuteTime": {
     "end_time": "2022-05-29T07:43:56.230595Z",
     "start_time": "2022-05-29T07:43:56.171727Z"
    }
   },
   "outputs": [],
   "source": [
    "# 去除经纬度异常值\n",
    "df = df[df['lon']!='XXXXX.XXXX']\n",
    "df = df.reset_index()\n",
    "display(df)"
   ]
  },
  {
   "cell_type": "markdown",
   "metadata": {},
   "source": [
    "# 数据提取"
   ]
  },
  {
   "cell_type": "code",
   "execution_count": null,
   "metadata": {
    "ExecuteTime": {
     "end_time": "2022-05-29T07:43:56.262517Z",
     "start_time": "2022-05-29T07:43:56.234602Z"
    }
   },
   "outputs": [],
   "source": [
    "import numpy as np \n",
    "lon=df['lon'].astype('float')//100+df['lon'].astype('float')/100%1*100/60\n",
    "lon=np.array(lon)\n",
    "lat=df['lat'].astype('float')//100+df['lat'].astype('float')/100%1*100/60\n",
    "lat=np.array(lat)\n",
    "display(lon,lat)"
   ]
  },
  {
   "cell_type": "code",
   "execution_count": null,
   "metadata": {
    "ExecuteTime": {
     "end_time": "2022-05-29T07:43:59.404416Z",
     "start_time": "2022-05-29T07:43:56.265502Z"
    }
   },
   "outputs": [],
   "source": [
    "from cartopy.io.shapereader import Reader\n",
    "import cartopy.crs as ccrs \n",
    "shp_dir='E:/official_shapefiles/'\n",
    "shp_name='continents_lines.shp'\n",
    "proj=ccrs.PlateCarree()"
   ]
  },
  {
   "cell_type": "code",
   "execution_count": null,
   "metadata": {
    "ExecuteTime": {
     "end_time": "2022-05-29T07:43:59.419453Z",
     "start_time": "2022-05-29T07:43:59.404416Z"
    }
   },
   "outputs": [],
   "source": [
    "def set_geo(ax):\n",
    "    import cartopy.feature as cf\n",
    "    shp = cf.ShapelyFeature(Reader(shp_dir+shp_name).geometries(), ccrs.PlateCarree())\n",
    "    # proj=ccrs.LambertConformal()\n",
    "    extent=[117,130,24, 38]\n",
    "    ax.set_extent(extent, crs=ccrs.PlateCarree()) \n",
    "#     ax.add_feature(cf.OCEAN, facecolor='#97DBF2')\n",
    "#     ax.patch.set_facecolor('#97DBF2')\n",
    "#     ax.add_feature(cf.LAND)\n",
    "    ax.add_feature(shp, linestyle=(0,(5,0)), linewidth=0.5, \n",
    "        edgecolor='None', facecolor='#bfbfbf',alpha=1,zorder=4)\n",
    "    #------------------------------------------------------------------------------------------------------------------------------------\n",
    "#     lb=ax.gridlines(draw_labels=None, xlocs=range(122,126,1), ylocs=range(25,33,1), linestyle=(0,(10,10)),\n",
    "#                     linewidth=0.25, color='dimgrey', alpha=0.8, zorder=4)\n",
    "    lb=ax.gridlines(draw_labels=True,x_inline=False, y_inline=False,xlocs=range(118,130,2), ylocs=range(26,38,2),\n",
    "                    linewidth=0.1, color='gray', alpha=0.8, linestyle='--',zorder=11)\n",
    "    lb.top_labels = None\n",
    "    lb.right_labels = None\n",
    "    lb.rotate_labels = False\n",
    "    #----------------------------------------------------------\n",
    "    "
   ]
  },
  {
   "cell_type": "code",
   "execution_count": null,
   "metadata": {
    "ExecuteTime": {
     "end_time": "2022-05-29T07:44:09.635833Z",
     "start_time": "2022-05-29T07:43:59.422445Z"
    }
   },
   "outputs": [],
   "source": [
    "def add_baihua(ax):\n",
    "    shp=Reader(shp_dir+shp_name)\n",
    "    for i,s in enumerate(shp.records()):\n",
    "        ax.text((s.bounds[0]+s.bounds[2])/2,\n",
    "            (s.bounds[1]+s.bounds[3])/2,\n",
    "            '{}'.format(i))\n",
    "        ax.add_geometries([s.geometry],\n",
    "                      proj,facecolor='none',\n",
    "                      edgecolor='k',alpha=0.75)\n",
    "def plot_spots():\n",
    "    import matplotlib.pyplot as plt\n",
    "    plt.rcParams['axes.unicode_minus'] = False \n",
    "    plt.rcParams['font.sans-serif'] = ['Times New Roman']\n",
    "    fig = plt.figure(figsize=(8, 8))\n",
    "    ax = plt.axes(projection=proj)\n",
    "    set_geo(ax)\n",
    "    \n",
    "    #提取数据\n",
    "    plt.scatter(spots.lon,spots.lat,s=0.2,c='black')\n",
    "    plt.savefig('spots_20220528.png',dpi=300,bbox_inches='tight',pad_inches=0)\n",
    "\n",
    "# plot_spots()"
   ]
  },
  {
   "cell_type": "code",
   "execution_count": null,
   "metadata": {
    "ExecuteTime": {
     "end_time": "2022-05-29T07:44:10.582521Z",
     "start_time": "2022-05-29T07:44:09.639826Z"
    },
    "scrolled": true
   },
   "outputs": [],
   "source": [
    "def plot_route():\n",
    "    import matplotlib.pyplot as plt\n",
    "    import datetime\n",
    "    plt.rcParams['axes.unicode_minus'] = False \n",
    "    plt.rcParams['font.sans-serif'] = ['Times New Roman']\n",
    "    fig = plt.figure(figsize=(8, 8))\n",
    "    ax = plt.axes(projection=proj)\n",
    "    set_geo(ax)\n",
    "    #船用气象仪\n",
    "    ax.plot(lon[:14700],lat[:14700],linewidth=0.5,color='black',zorder=1,label='Go')\n",
    "    ax.plot(lon[14700:],lat[14700:],'--',linewidth=1,color='black',zorder=1,label='Return')\n",
    "    #站位信息\n",
    "    ax.scatter(spots.lon,spots.lat,s=2.5,c='red',zorder=10,label='CTD Station')\n",
    "    \n",
    "    \n",
    "    plt.legend(loc='lower right')\n",
    "    today = datetime.strftime(datetime.now(),'%Y%m%d')\n",
    "    plt.savefig('route_{}.png'.format(today),dpi=600,bbox_inches='tight',pad_inches=0)\n",
    "plot_route()"
   ]
  },
  {
   "cell_type": "markdown",
   "metadata": {},
   "source": [
    "# 读取Hysplit后向轨迹数据"
   ]
  },
  {
   "cell_type": "code",
   "execution_count": null,
   "metadata": {},
   "outputs": [],
   "source": [
    "def read_hysplit(date):\n",
    "    import warnings;warnings.filterwarnings('ignore')\n",
    "    dir = 'E:/programming/code_2022_5/Hysplit/output/'\n",
    "    df = pd.read_csv(dir+date,sep='\\s+',header=None,skiprows=13)\n",
    "    pd.set_option('display.max_columns', None)\n",
    "    df.columns=['traj_num','meteo_grid_num','year','month','day','hour','minute',\n",
    "                'forecast_hour','age_of_traj','lat','lon','h_agl','diagn_var']\n",
    "    # display(df)\n",
    "    return df\n",
    "hysplit=read_hysplit('20220410').groupby(\"traj_num\")\n",
    "siz=len(hysplit)\n"
   ]
  },
  {
   "cell_type": "code",
   "execution_count": null,
   "metadata": {},
   "outputs": [],
   "source": [
    "def plot_routewithbackward():\n",
    "    import matplotlib.pyplot as plt\n",
    "    plt.rcParams['axes.unicode_minus'] = False \n",
    "    plt.rcParams['font.sans-serif'] = ['Times New Roman']\n",
    "    fig = plt.figure(figsize=(8, 8))\n",
    "    ax = plt.axes(projection=proj)\n",
    "    set_geo(ax)\n",
    "    #船用气象仪\n",
    "    ax.plot(lon[:14700],lat[:14700],linewidth=0.5,color='black',zorder=6,label='Go')\n",
    "    ax.plot(lon[14700:],lat[14700:],'--',linewidth=1,color='black',zorder=6,label='Return')\n",
    "    #站位信息\n",
    "    ax.scatter(spots.lon,spots.lat,s=2.5,c='red',zorder=10,label='CTD Station')\n",
    "    #后向轨迹\n",
    "    for i in range(len(hysplit)):\n",
    "        ax.plot(hysplit.get_group(i+1).lon,hysplit.get_group(i+1).lat,linewidth=0.5,label='Hysplit_'+str(i+1),zorder=5)\n",
    "    \n",
    "    plt.legend(loc='lower right')\n",
    "    plt.savefig('routewithbackward_20220609.png',dpi=600,bbox_inches='tight',pad_inches=0)\n",
    "plot_routewithbackward()"
   ]
  },
  {
   "cell_type": "code",
   "execution_count": null,
   "metadata": {},
   "outputs": [],
   "source": []
  }
 ],
 "metadata": {
  "interpreter": {
   "hash": "902e6101d154c3ec902b6a686db0f161ecb11054114f3f3d6f617bfc6ab05b5c"
  },
  "kernelspec": {
   "display_name": "Python 3.7.4 ('base')",
   "language": "python",
   "name": "python3"
  },
  "language_info": {
   "codemirror_mode": {
    "name": "ipython",
    "version": 3
   },
   "file_extension": ".py",
   "mimetype": "text/x-python",
   "name": "python",
   "nbconvert_exporter": "python",
   "pygments_lexer": "ipython3",
   "version": "3.7.4"
  },
  "toc": {
   "base_numbering": 1,
   "nav_menu": {},
   "number_sections": true,
   "sideBar": true,
   "skip_h1_title": false,
   "title_cell": "Table of Contents",
   "title_sidebar": "Contents",
   "toc_cell": false,
   "toc_position": {
    "height": "calc(100% - 180px)",
    "left": "10px",
    "top": "150px",
    "width": "191.63px"
   },
   "toc_section_display": true,
   "toc_window_display": false
  },
  "varInspector": {
   "cols": {
    "lenName": 16,
    "lenType": 16,
    "lenVar": 40
   },
   "kernels_config": {
    "python": {
     "delete_cmd_postfix": "",
     "delete_cmd_prefix": "del ",
     "library": "var_list.py",
     "varRefreshCmd": "print(var_dic_list())"
    },
    "r": {
     "delete_cmd_postfix": ") ",
     "delete_cmd_prefix": "rm(",
     "library": "var_list.r",
     "varRefreshCmd": "cat(var_dic_list()) "
    }
   },
   "oldHeight": 248.85000000000002,
   "position": {
    "height": "40px",
    "left": "527.7px",
    "right": "20px",
    "top": "5px",
    "width": "568px"
   },
   "types_to_exclude": [
    "module",
    "function",
    "builtin_function_or_method",
    "instance",
    "_Feature"
   ],
   "varInspector_section_display": "none",
   "window_display": true
  }
 },
 "nbformat": 4,
 "nbformat_minor": 2
}
