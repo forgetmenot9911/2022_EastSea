{
 "cells": [
  {
   "cell_type": "code",
   "execution_count": 4,
   "metadata": {},
   "outputs": [],
   "source": [
    "import pandas as pd \n",
    "import datetime, os, warnings;  warnings.filterwarnings('ignore')\n",
    "from meteo import read_meteo\n",
    "from AE33 import read_ae33\n",
    "meteoinfo = read_meteo()\n",
    "ae33info  = read_ae33()\n",
    "df_combine = pd.merge(meteoinfo,ae33info,on='Dateandtime')\n",
    "pd.set_option('display.max_rows', None)       #显示所有行\n",
    "pd.set_option('display.max_columns', None)    #显示所有列\n",
    "del meteoinfo,ae33info\n",
    "# df_combine\n",
    "from AE33 import create_plot,wavelengths,units\n",
    "x = df_combine.Dateandtime\n",
    "y1= df_combine.orient_relative\n",
    "lamda:int=880   # Select the wavelength to read\n",
    "# Select the target data（range：BCXX,BCX,BB）\n",
    "# BCkey = 'BB'\n",
    "BCkey = str(wavelengths.get(lamda))\n",
    "if BCkey!='BB':\n",
    "    y = df_combine[BCkey]/1000  # unit conversion: ng/m3->μg/m3     \n",
    "# unit\n",
    "unit = units.get(BCkey) \n",
    "# plot title                 \n",
    "plotTitle = \"Aethalometer Model AE33\"\n",
    "if BCkey!='BB':\n",
    "    plotTitle = plotTitle + \" ($\\lambda=$\" + str(lamda) + \"nm)\"\n",
    "# Y-axis title\n",
    "if BCkey=='BB':\n",
    "    ytitle = \"Biomass Burning Fraction\"\n",
    "else:\n",
    "    ytitle=\"Equivalent Black Carbon\"\n",
    "create_plot(x, y, yunits=unit, title=plotTitle, ytitle=ytitle, y1=y1)"
   ]
  },
  {
   "cell_type": "code",
   "execution_count": 7,
   "metadata": {},
   "outputs": [
    {
     "data": {
      "text/plain": [
       "6.123233995736766e-17"
      ]
     },
     "execution_count": 7,
     "metadata": {},
     "output_type": "execute_result"
    }
   ],
   "source": [
    "import numpy as np\n",
    "np.cos(np.pi/2)"
   ]
  },
  {
   "cell_type": "code",
   "execution_count": 1,
   "metadata": {},
   "outputs": [],
   "source": [
    "from combin2calcu import main\n",
    "df=main()"
   ]
  },
  {
   "cell_type": "code",
   "execution_count": 22,
   "metadata": {},
   "outputs": [],
   "source": [
    "import pandas as pd\n",
    "import seaborn as sns\n",
    "import matplotlib.pyplot as plt\n",
    "plt.rcParams['font.size']=9\n",
    "plt.rcParams['font.family'] = 'Times New Roman' \n",
    "df = pd.read_csv('./BCvsMeteo.csv',header=0)\n",
    "df['area']=df['lat'].apply(lambda x:'YS' if (x>=32.5) else 'ECS')\n",
    "df.groupby('area')\n",
    "df_ys=df.groupby('area').get_group('YS').drop(labels=['area','lat','lon'], axis=1)\n",
    "df_ys.columns=['BC','Pressure','Temperature','RH','Wind speed']\n",
    "df_ys.to_csv('BCvsMeteo_YS.csv',index=False)\n",
    "\n",
    "df_ecs=df.groupby('area').get_group('ECS').drop(labels=['area','lat','lon'], axis=1)\n",
    "df_ecs.columns=['BC','Pressure','Temperature','RH','Wind speed']\n",
    "df_ecs.to_csv('BCvsMeteo_ECS.csv',index=False)"
   ]
  },
  {
   "cell_type": "code",
   "execution_count": 14,
   "metadata": {},
   "outputs": [
    {
     "data": {
      "text/html": [
       "<div>\n",
       "<style scoped>\n",
       "    .dataframe tbody tr th:only-of-type {\n",
       "        vertical-align: middle;\n",
       "    }\n",
       "\n",
       "    .dataframe tbody tr th {\n",
       "        vertical-align: top;\n",
       "    }\n",
       "\n",
       "    .dataframe thead th {\n",
       "        text-align: right;\n",
       "    }\n",
       "</style>\n",
       "<table border=\"1\" class=\"dataframe\">\n",
       "  <thead>\n",
       "    <tr style=\"text-align: right;\">\n",
       "      <th></th>\n",
       "      <th>BC</th>\n",
       "      <th>Pressure</th>\n",
       "      <th>Temperature</th>\n",
       "      <th>RH</th>\n",
       "      <th>Wind speed</th>\n",
       "    </tr>\n",
       "  </thead>\n",
       "  <tbody>\n",
       "    <tr>\n",
       "      <th>BC</th>\n",
       "      <td>1.000000</td>\n",
       "      <td>0.450776</td>\n",
       "      <td>-0.186883</td>\n",
       "      <td>-0.048360</td>\n",
       "      <td>0.481367</td>\n",
       "    </tr>\n",
       "    <tr>\n",
       "      <th>Pressure</th>\n",
       "      <td>0.450776</td>\n",
       "      <td>1.000000</td>\n",
       "      <td>-0.006592</td>\n",
       "      <td>-0.038387</td>\n",
       "      <td>0.259784</td>\n",
       "    </tr>\n",
       "    <tr>\n",
       "      <th>Temperature</th>\n",
       "      <td>-0.186883</td>\n",
       "      <td>-0.006592</td>\n",
       "      <td>1.000000</td>\n",
       "      <td>-0.248278</td>\n",
       "      <td>-0.230848</td>\n",
       "    </tr>\n",
       "    <tr>\n",
       "      <th>RH</th>\n",
       "      <td>-0.048360</td>\n",
       "      <td>-0.038387</td>\n",
       "      <td>-0.248278</td>\n",
       "      <td>1.000000</td>\n",
       "      <td>0.053078</td>\n",
       "    </tr>\n",
       "    <tr>\n",
       "      <th>Wind speed</th>\n",
       "      <td>0.481367</td>\n",
       "      <td>0.259784</td>\n",
       "      <td>-0.230848</td>\n",
       "      <td>0.053078</td>\n",
       "      <td>1.000000</td>\n",
       "    </tr>\n",
       "  </tbody>\n",
       "</table>\n",
       "</div>"
      ],
      "text/plain": [
       "                   BC  Pressure  Temperature        RH  Wind speed\n",
       "BC           1.000000  0.450776    -0.186883 -0.048360    0.481367\n",
       "Pressure     0.450776  1.000000    -0.006592 -0.038387    0.259784\n",
       "Temperature -0.186883 -0.006592     1.000000 -0.248278   -0.230848\n",
       "RH          -0.048360 -0.038387    -0.248278  1.000000    0.053078\n",
       "Wind speed   0.481367  0.259784    -0.230848  0.053078    1.000000"
      ]
     },
     "execution_count": 14,
     "metadata": {},
     "output_type": "execute_result"
    }
   ],
   "source": [
    "df_coor=df_ys.corr(method='pearson')\n",
    "df_coor"
   ]
  },
  {
   "cell_type": "code",
   "execution_count": 2,
   "metadata": {},
   "outputs": [],
   "source": [
    "def pvalue_marker(pval, corr=None, only_pos=False):\n",
    "    if only_pos:  # 只标记正相关\n",
    "        if corr is None:  \n",
    "            print('correlations `corr` is not provided, '\n",
    "                  'negative correlations cannot be filtered!')\n",
    "        else:\n",
    "            pval = pval + (corr < 0).astype(float)\n",
    "    pval_marker = pval.applymap(lambda x: '**' if x < 0.01 else ('*' if x < 0.05 else ''))\n",
    "    return pval_marker"
   ]
  },
  {
   "cell_type": "code",
   "execution_count": 20,
   "metadata": {},
   "outputs": [
    {
     "data": {
      "text/plain": [
       "<AxesSubplot:>"
      ]
     },
     "execution_count": 20,
     "metadata": {},
     "output_type": "execute_result"
    },
    {
     "data": {
      "image/png": "[encoded data removed]",
      "text/plain": [
       "<Figure size 640x480 with 2 Axes>"
      ]
     },
     "metadata": {},
     "output_type": "display_data"
    }
   ],
   "source": [
    "cor = df_ys.corr(method='pearson')\n",
    "sns.heatmap(cor,\n",
    "            annot=True,  # 显示相关系数的数据\n",
    "            mask=mask,\n",
    "            center=0.5,  # 居中\n",
    "            fmt='.2f',  # 只显示两位小数\n",
    "            linewidth=0.5,  # 设置每个单元格的距离\n",
    "            linecolor='white',  # 设置间距线的颜色\n",
    "            # vmin=0, vmax=1,  # 设置数值最小值和最大值\n",
    "            xticklabels=True, yticklabels=True,  # 显示x轴和y轴\n",
    "            square=True,  # 每个方格都是正方形\n",
    "            cbar=True,  # 绘制颜色条\n",
    "            cmap='coolwarm_r',  # 设置热力图颜色\n",
    "            )\n",
    "# https://blog.csdn.net/weixin_39166189/article/details/122860178"
   ]
  },
  {
   "cell_type": "code",
   "execution_count": null,
   "metadata": {},
   "outputs": [],
   "source": []
  }
 ],
 "metadata": {
  "kernelspec": {
   "display_name": "Python 3.9.0 ('py39')",
   "language": "python",
   "name": "python3"
  },
  "language_info": {
   "codemirror_mode": {
    "name": "ipython",
    "version": 3
   },
   "file_extension": ".py",
   "mimetype": "text/x-python",
   "name": "python",
   "nbconvert_exporter": "python",
   "pygments_lexer": "ipython3",
   "version": "3.10.9"
  },
  "orig_nbformat": 4,
  "vscode": {
   "interpreter": {
    "hash": "e63d1c7093b598c5256aae00a2a1b0bb736b163df44a23cfa0609ff4cf3ee930"
   }
  }
 },
 "nbformat": 4,
 "nbformat_minor": 2
}
