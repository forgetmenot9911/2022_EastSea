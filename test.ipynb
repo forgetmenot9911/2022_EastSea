{
 "cells": [
  {
   "cell_type": "code",
   "execution_count": 4,
   "metadata": {},
   "outputs": [],
   "source": [
    "import pandas as pd \n",
    "import datetime, os, warnings;  warnings.filterwarnings('ignore')\n",
    "from meteo import read_meteo\n",
    "from AE33 import read_ae33\n",
    "meteoinfo = read_meteo()\n",
    "ae33info  = read_ae33()\n",
    "df_combine = pd.merge(meteoinfo,ae33info,on='Dateandtime')\n",
    "pd.set_option('display.max_rows', None)       #显示所有行\n",
    "pd.set_option('display.max_columns', None)    #显示所有列\n",
    "del meteoinfo,ae33info\n",
    "# df_combine\n",
    "from AE33 import create_plot,wavelengths,units\n",
    "x = df_combine.Dateandtime\n",
    "y1= df_combine.orient_relative\n",
    "lamda:int=880   # Select the wavelength to read\n",
    "# Select the target data（range：BCXX,BCX,BB）\n",
    "# BCkey = 'BB'\n",
    "BCkey = str(wavelengths.get(lamda))\n",
    "if BCkey!='BB':\n",
    "    y = df_combine[BCkey]/1000  # unit conversion: ng/m3->μg/m3     \n",
    "# unit\n",
    "unit = units.get(BCkey) \n",
    "# plot title                 \n",
    "plotTitle = \"Aethalometer Model AE33\"\n",
    "if BCkey!='BB':\n",
    "    plotTitle = plotTitle + \" ($\\lambda=$\" + str(lamda) + \"nm)\"\n",
    "# Y-axis title\n",
    "if BCkey=='BB':\n",
    "    ytitle = \"Biomass Burning Fraction\"\n",
    "else:\n",
    "    ytitle=\"Equivalent Black Carbon\"\n",
    "create_plot(x, y, yunits=unit, title=plotTitle, ytitle=ytitle, y1=y1)"
   ]
  },
  {
   "cell_type": "code",
   "execution_count": 7,
   "metadata": {},
   "outputs": [
    {
     "data": {
      "text/plain": [
       "6.123233995736766e-17"
      ]
     },
     "execution_count": 7,
     "metadata": {},
     "output_type": "execute_result"
    }
   ],
   "source": [
    "import numpy as np\n",
    "np.cos(np.pi/2)"
   ]
  },
  {
   "cell_type": "code",
   "execution_count": null,
   "metadata": {},
   "outputs": [],
   "source": []
  }
 ],
 "metadata": {
  "kernelspec": {
   "display_name": "Python 3.9.0 ('py39')",
   "language": "python",
   "name": "python3"
  },
  "language_info": {
   "codemirror_mode": {
    "name": "ipython",
    "version": 3
   },
   "file_extension": ".py",
   "mimetype": "text/x-python",
   "name": "python",
   "nbconvert_exporter": "python",
   "pygments_lexer": "ipython3",
   "version": "3.9.0"
  },
  "orig_nbformat": 4,
  "vscode": {
   "interpreter": {
    "hash": "e63d1c7093b598c5256aae00a2a1b0bb736b163df44a23cfa0609ff4cf3ee930"
   }
  }
 },
 "nbformat": 4,
 "nbformat_minor": 2
}
