{
 "cells": [
  {
   "cell_type": "code",
   "execution_count": 4,
   "metadata": {
    "ExecuteTime": {
     "end_time": "2022-05-29T09:32:00.590247Z",
     "start_time": "2022-05-29T09:31:50.937665Z"
    }
   },
   "outputs": [],
   "source": [
    "import pandas as pd \n",
    "import datetime, glob, os, warnings;  warnings.filterwarnings('ignore')\n",
    "import numpy as np\n",
    "import matplotlib.pyplot as plt\n",
    "from pandas.plotting import register_matplotlib_converters\n"
   ]
  },
  {
   "cell_type": "code",
   "execution_count": null,
   "metadata": {},
   "outputs": [],
   "source": [
    "def create_plot(y, x=None, yunits='ng/m$^3$', title=\"Aethalometer\", ytitle='eBC'):\n",
    "    plt.style.use('ggplot')\n",
    "    register_matplotlib_converters()\n",
    "    \n",
    "    # definitions for the axes\n",
    "    left, width = 0.1, 0.7\n",
    "    bottom, height = 0.15, 0.75\n",
    "    spacing = 0.005\n",
    "    box_width = 1 - (1.5*left + width + spacing)\n",
    "\n",
    "    rect_scatter = [left, bottom, width, height]\n",
    "    rect_box = [left + width + spacing, bottom, box_width, height]\n",
    "\n",
    "    # start with a rectangular Figure\n",
    "    today = datetime.strftime(datetime.now(),'%Y%m%d')\n",
    "    box = plt.figure(\"boxplot_{}\".format(today), figsize=(12, 6))\n",
    "\n",
    "    ax_scatter = plt.axes(rect_scatter)\n",
    "    ax_scatter.tick_params(direction='in', top=True, right=True)\n",
    "    ax_box = plt.axes(rect_box)\n",
    "    ax_box.tick_params(direction='in', labelleft=False, labelbottom=False)\n",
    "\n",
    "    # the scatter plot:\n",
    "    if x==None:\n",
    "        ax_scatter.plot(y) # change plot type to scatter to have markers\n",
    "        tdelta = y.index.max() - y.index.min()\n",
    "    else:\n",
    "        ax_scatter.plot(x, y) # change plot type to scatter to have markers\n",
    "        tdelta = x.max() - x.min()\n",
    "    ax_scatter.set(xlabel='date', ylabel=ytitle + ' (' + yunits + ')', title=title)\n",
    "    my_date_formater(ax_scatter, tdelta)\n",
    "\n",
    "    # now determine nice limits by hand:\n",
    "    binwidth = 0.25\n",
    "    lim0 = y.min()\n",
    "    lim1 = y.max()\n",
    "    if x==None:\n",
    "        tlim0 = y.index.min()\n",
    "        tlim1 = y.index.max()\n",
    "    else:\n",
    "        tlim0 = x.min()\n",
    "        tlim1 = x.max()\n",
    "    extra_space = (lim1 - lim0)/10\n",
    "    extra_t = (tlim1 - tlim0)/10\n",
    "    ax_scatter.set_xlim((tlim0-extra_t, tlim1+extra_t))\n",
    "    ax_scatter.set_ylim((lim0-extra_space, lim1+extra_space))\n",
    "\n",
    "    meanpointprops = dict(marker='D')\n",
    "    ax_box.boxplot(y.dropna(), showmeans=True, meanprops=meanpointprops)\n",
    "    ax_box.set_ylim(ax_scatter.get_ylim())\n",
    "    mu = y.mean()\n",
    "    sigma = y.std()\n",
    "    text = r'$\\mu={0:.2f},\\ \\sigma={1:.3f}$'.format(mu, sigma)\n",
    "    ax_box.text(1, lim1 + extra_space/2, text, horizontalalignment=\"center\", verticalalignment=\"center\")\n",
    "    \n",
    "    plt.show()\n",
    "    plt.close()"
   ]
  },
  {
   "cell_type": "markdown",
   "metadata": {},
   "source": [
    "# 绘图\n",
    "## 坐标轴（设置日期格式`my_date_formater`）"
   ]
  },
  {
   "cell_type": "code",
   "execution_count": null,
   "metadata": {},
   "outputs": [],
   "source": [
    "import matplotlib.dates as mdates\n",
    "from matplotlib.ticker import FuncFormatter\n",
    "def my_date_formater(ax, delta):\n",
    "    if delta.days < 3:\n",
    "        ax.xaxis.set_major_locator(mdates.DayLocator())\n",
    "        ax.xaxis.set_major_formatter(mdates.DateFormatter('%d-%m-%y'))\n",
    "        ax.xaxis.set_minor_formatter(mdates.DateFormatter('%H:%M'))\n",
    "        ax.xaxis.grid(True, which='minor')\n",
    "        ax.tick_params(axis=\"x\", which=\"major\", pad=15)\n",
    "        if delta.days < 0.75:\n",
    "            ax.xaxis.set_minor_locator(mdates.HourLocator())\n",
    "        if delta.days < 1:\n",
    "            ax.xaxis.set_minor_locator(mdates.HourLocator((0,3,6,9,12,15,18,21,)))\n",
    "        else:\n",
    "            ax.xaxis.set_minor_locator(mdates.HourLocator((0,6,12,18,)))\n",
    "    elif delta.days < 8:\n",
    "        ax.xaxis.set_major_locator(mdates.MonthLocator())\n",
    "        ax.xaxis.set_major_formatter(mdates.DateFormatter('%b %Y'))\n",
    "        ax.xaxis.set_minor_formatter(mdates.DateFormatter('%a %d'))\n",
    "        ax.xaxis.grid(True, which='minor')\n",
    "        ax.tick_params(axis=\"x\", which=\"major\", pad=15)\n",
    "        ax.xaxis.set_minor_locator(mdates.DayLocator())\n",
    "        ax.set(xlabel='date')\n",
    "    else:\n",
    "        xtick_locator = mdates.AutoDateLocator()\n",
    "        xtick_formatter = mdates.AutoDateFormatter(xtick_locator)\n",
    "        xtick_formatter.scaled[30.] = FuncFormatter(my_days_format_function)\n",
    "        xtick_formatter.scaled[1.] = FuncFormatter(my_days_format_function)\n",
    "        ax.xaxis.set_major_locator(xtick_locator)\n",
    "        ax.xaxis.set_major_formatter(xtick_formatter)\n",
    "        ax.set(xlabel='date')\n",
    "\n",
    "def my_days_format_function(x, pos=None):\n",
    "     x = mdates.num2date(x)\n",
    "     if pos == 0:\n",
    "         fmt = '%b %d\\n%Y'\n",
    "     else:\n",
    "         fmt = '%b %-d'\n",
    "     label = x.strftime(fmt)\n",
    "     return label"
   ]
  },
  {
   "cell_type": "code",
   "execution_count": 3,
   "metadata": {},
   "outputs": [
    {
     "ename": "AttributeError",
     "evalue": "'NoneType' object has no attribute 'append'",
     "output_type": "error",
     "traceback": [
      "\u001b[1;31m---------------------------------------------------------------------------\u001b[0m",
      "\u001b[1;31mAttributeError\u001b[0m                            Traceback (most recent call last)",
      "\u001b[1;32m~\\AppData\\Local\\Temp\\ipykernel_17056\\300065488.py\u001b[0m in \u001b[0;36m<module>\u001b[1;34m\u001b[0m\n\u001b[0;32m     14\u001b[0m     \u001b[1;32mreturn\u001b[0m \u001b[0mdf\u001b[0m\u001b[1;33m\u001b[0m\u001b[1;33m\u001b[0m\u001b[0m\n\u001b[0;32m     15\u001b[0m \u001b[1;33m\u001b[0m\u001b[0m\n\u001b[1;32m---> 16\u001b[1;33m \u001b[0mread_ae33_vers1\u001b[0m\u001b[1;33m(\u001b[0m\u001b[1;33m)\u001b[0m\u001b[1;33m\u001b[0m\u001b[1;33m\u001b[0m\u001b[0m\n\u001b[0m\u001b[0;32m     17\u001b[0m \u001b[1;31m# df = read_ae33_vers1('20220409')\u001b[0m\u001b[1;33m\u001b[0m\u001b[1;33m\u001b[0m\u001b[1;33m\u001b[0m\u001b[0m\n\u001b[0;32m     18\u001b[0m \u001b[1;31m# for i in range(20220410,20220427,1):\u001b[0m\u001b[1;33m\u001b[0m\u001b[1;33m\u001b[0m\u001b[1;33m\u001b[0m\u001b[0m\n",
      "\u001b[1;32m~\\AppData\\Local\\Temp\\ipykernel_17056\\300065488.py\u001b[0m in \u001b[0;36mread_ae33_vers1\u001b[1;34m()\u001b[0m\n\u001b[0;32m      6\u001b[0m     \u001b[1;32mfor\u001b[0m \u001b[0mfile\u001b[0m \u001b[1;32min\u001b[0m \u001b[0mglob\u001b[0m\u001b[1;33m.\u001b[0m\u001b[0mglob\u001b[0m\u001b[1;33m(\u001b[0m\u001b[0mfile_dir\u001b[0m \u001b[1;33m+\u001b[0m \u001b[0mfilemark\u001b[0m\u001b[1;33m)\u001b[0m\u001b[1;33m:\u001b[0m\u001b[1;33m\u001b[0m\u001b[1;33m\u001b[0m\u001b[0m\n\u001b[0;32m      7\u001b[0m         \u001b[0mdf\u001b[0m \u001b[1;33m=\u001b[0m \u001b[0mpd\u001b[0m\u001b[1;33m.\u001b[0m\u001b[0mread_table\u001b[0m\u001b[1;33m(\u001b[0m\u001b[0mfile\u001b[0m\u001b[1;33m,\u001b[0m\u001b[0mskiprows\u001b[0m\u001b[1;33m=\u001b[0m\u001b[1;36m8\u001b[0m\u001b[1;33m,\u001b[0m\u001b[0mheader\u001b[0m\u001b[1;33m=\u001b[0m\u001b[1;32mNone\u001b[0m\u001b[1;33m,\u001b[0m\u001b[0msep\u001b[0m\u001b[1;33m=\u001b[0m\u001b[1;34m'\\s+'\u001b[0m\u001b[1;33m)\u001b[0m\u001b[1;33m\u001b[0m\u001b[1;33m\u001b[0m\u001b[0m\n\u001b[1;32m----> 8\u001b[1;33m         \u001b[0mdt\u001b[0m \u001b[1;33m=\u001b[0m \u001b[0mdt\u001b[0m\u001b[1;33m.\u001b[0m\u001b[0mappend\u001b[0m\u001b[1;33m(\u001b[0m\u001b[0mdf\u001b[0m\u001b[1;33m)\u001b[0m\u001b[1;33m\u001b[0m\u001b[1;33m\u001b[0m\u001b[0m\n\u001b[0m\u001b[0;32m      9\u001b[0m         \u001b[1;31m# df = df.iloc[:,1:66]\u001b[0m\u001b[1;33m\u001b[0m\u001b[1;33m\u001b[0m\u001b[1;33m\u001b[0m\u001b[0m\n\u001b[0;32m     10\u001b[0m         \u001b[1;31m# df.columns=['Time','Timebase','RefCh1','Sen1Ch1','Sen2Ch1','RefCh2','Sen1Ch2','Sen2Ch2','RefCh3','Sen1Ch3','Sen2Ch3','RefCh4','Sen1Ch4','Sen2Ch4','RefCh5','Sen1Ch5','Sen2Ch5','RefCh6','Sen1Ch6','Sen2Ch6','RefCh7','Sen1Ch7','Sen2Ch7','Flow1','Flow2','FlowC','Pressure(Pa)','Temperature(°C)','BB(%)','ContTemp','SupplyTemp','Status','ContStatus','DetectStatus','LedStatus','ValveStatus','LedTemp','BC11','BC12','BC1','BC21','BC22','BC2','BC31','BC32','BC3','BC41','BC42','BC4','BC51','BC52','BC5','BC61','BC62','BC6','BC71','BC72','BC7','K1','K2','K3','K4','K5','K6','K7']\u001b[0m\u001b[1;33m\u001b[0m\u001b[1;33m\u001b[0m\u001b[1;33m\u001b[0m\u001b[0m\n",
      "\u001b[1;31mAttributeError\u001b[0m: 'NoneType' object has no attribute 'append'"
     ]
    }
   ],
   "source": [
    "## 读取2022年4月海上航线数据\n",
    "def read_ae33_vers1():\n",
    "    file_dir = './AE33 0409-0426/'\n",
    "    filemark = 'AE33_AE33-S08-00991_*'\n",
    "    files = os.listdir(file_dir)\n",
    "    dt=[]\n",
    "    for file in glob.glob(file_dir + filemark):\n",
    "        df = pd.read_table(file,skiprows=8,header=None,sep='\\s+')\n",
    "        dt = dt.append(df)\n",
    "        # df = df.iloc[:,1:66]\n",
    "        # df.columns=['Time','Timebase','RefCh1','Sen1Ch1','Sen2Ch1','RefCh2','Sen1Ch2','Sen2Ch2','RefCh3','Sen1Ch3','Sen2Ch3','RefCh4','Sen1Ch4','Sen2Ch4','RefCh5','Sen1Ch5','Sen2Ch5','RefCh6','Sen1Ch6','Sen2Ch6','RefCh7','Sen1Ch7','Sen2Ch7','Flow1','Flow2','FlowC','Pressure(Pa)','Temperature(°C)','BB(%)','ContTemp','SupplyTemp','Status','ContStatus','DetectStatus','LedStatus','ValveStatus','LedTemp','BC11','BC12','BC1','BC21','BC22','BC2','BC31','BC32','BC3','BC41','BC42','BC4','BC51','BC52','BC5','BC61','BC62','BC6','BC71','BC72','BC7','K1','K2','K3','K4','K5','K6','K7']\n",
    "        # for i in range(len(df)):\n",
    "        #     df.Time[i]=ymd+df.Time[i]\n",
    "        #     df.Time[i]=datetime.datetime.strptime(str(df.Time[i]),'%Y%m%d%H:%M:%S')\n",
    "    return df\n",
    "\n",
    "read_ae33_vers1()\n",
    "# df = read_ae33_vers1('20220409')\n",
    "# for i in range(20220410,20220427,1):\n",
    "#     df = df.append(read_ae33_vers1(str(i)))\n",
    "# pd.set_option('display.max_columns', None)#显示所有列\n",
    "# display(df)"
   ]
  },
  {
   "cell_type": "code",
   "execution_count": null,
   "metadata": {
    "ExecuteTime": {
     "end_time": "2022-05-29T09:37:02.841675Z",
     "start_time": "2022-05-29T09:36:46.472442Z"
    }
   },
   "outputs": [],
   "source": [
    "## 读取2022年5月陆地数据\n",
    "def read_ae33_vers2(ymd):\n",
    "    file_dir = './AE33 0511-0529/'\n",
    "    file_name = file_dir + 'AE33_AE33-S08-00991_'+ ymd + '.dat'\n",
    "    df = pd.read_table(file_name,skiprows=6,header=None,sep='\\s+')\n",
    "    df = df.iloc[:,1:66]\n",
    "    df.columns=['Time','Timebase','RefCh1','Sen1Ch1','Sen2Ch1','RefCh2',\n",
    "                'Sen1Ch2','Sen2Ch2','RefCh3','Sen1Ch3','Sen2Ch3','RefCh4',\n",
    "                'Sen1Ch4','Sen2Ch4','RefCh5','Sen1Ch5','Sen2Ch5','RefCh6',\n",
    "                'Sen1Ch6','Sen2Ch6','RefCh7','Sen1Ch7','Sen2Ch7',\n",
    "                'Flow1','Flow2','FlowC','Pressure(Pa)','Temperature(°C)','BB(%)',\n",
    "                'ContTemp','SupplyTemp','Status','ContStatus','DetectStatus','LedStatus','ValveStatus','LedTemp',\n",
    "                'BC11','BC12','BC1','BC21','BC22','BC2','BC31','BC32','BC3','BC41','BC42',\n",
    "                'BC4','BC51','BC52','BC5','BC61','BC62','BC6','BC71','BC72','BC7','K1','K2','K3','K4','K5','K6','K7']\n",
    "    for i in range(len(df)):\n",
    "        df.Time[i]=ymd+df.Time[i]\n",
    "        df.Time[i]=datetime.datetime.strptime(str(df.Time[i]),'%Y%m%d%H:%M:%S')\n",
    "    return df\n",
    "# df1=read_ae33_vers2('20220511') \n",
    "# for i in np.linspace(12,29,18):\n",
    "#     df1 = df1.append(read_ae33_vers2('202205'+str(int(i))))\n",
    "# # pd.set_option('display.max_columns', None)#显示所有列\n",
    "# df1 = df1.reset_index(drop=True)\n",
    "# # display(df1)"
   ]
  },
  {
   "cell_type": "code",
   "execution_count": 10,
   "metadata": {},
   "outputs": [],
   "source": [
    "def aae(sig1,sig2):# sig1 < sig2, unit:nm\n",
    "    import numpy as np\n",
    "    lbd1,lbd2=470,660\n",
    "    return np.log(sig2/sig1)/np.log(lbd1/lbd2)\n",
    "def three_sigma(df,var):  # ser1表示传入DataFrame的某一列\n",
    "    mean_value = df[var].mean()  # 求平均值\n",
    "    std_value = df[var].std()  # 求标准差\n",
    "    rule = (mean_value - 3 * std_value > df[var]) | (mean_value + 3 * std_value < df[var])\n",
    "    # 位于（u-3std,u+3std）区间的数据是正常的，不在这个区间的数据为异常的\n",
    "    # 一旦发现有异常值，就标注为True，否则标注为False\n",
    "    # index = np.arange(df.shape[0])[rule]  # 返回异常值的位置索引\n",
    "    df2 = df.drop(df[var][rule].index)# 获取非异常数据\n",
    "    return df2\n"
   ]
  },
  {
   "cell_type": "code",
   "execution_count": 4,
   "metadata": {},
   "outputs": [],
   "source": [
    "## 对BC2和BC5进行3sigma异常值清洗，以便求取AAE\n",
    "# df_aae = three_sigma(df,'BC2')\n",
    "# df_aae = three_sigma(df,'BC5')\n",
    "## 对BC6进行3sigma异常值清洗，以便求取880nm下的BC浓度\n",
    "# df_bc6 = three_sigma(df,'BC6')"
   ]
  },
  {
   "cell_type": "code",
   "execution_count": 11,
   "metadata": {},
   "outputs": [],
   "source": [
    "aae=aae(df['BC2']/1000,df['BC5']/1000)\n",
    "bc6=df['BC6']/1000 # 880nm, 单位转换: ng/m3->μg/m3"
   ]
  },
  {
   "cell_type": "markdown",
   "metadata": {},
   "source": [
    "接着，读取船上气象仪数据"
   ]
  },
  {
   "cell_type": "code",
   "execution_count": 12,
   "metadata": {},
   "outputs": [],
   "source": [
    "def read_routell(date):\n",
    "    import warnings;warnings.filterwarnings('ignore')\n",
    "    ll_dir = 'E:/programming/code_2022_5/route/经纬度走行气象数据/'\n",
    "    df = pd.read_table(ll_dir+date+'.TXT',sep=',',header=None,usecols=range(0,30))\n",
    "    pd.set_option('display.max_columns', None)\n",
    "    df.columns=['output_mark','Time','0W1Bj','lat','SN','lon','EW',\n",
    "                'speed_GPS','orient_GPS','GPS_situa',\n",
    "                'speed_zhenFeng','speed_source','speed_valid',\n",
    "                'orient_zhenFeng','orient_source','orient_valid',\n",
    "               'speed_relative','orient_relative','speed_true','orient_true',\n",
    "               'speed_true_1min','orient_true_1min','speed_true_10min','orient_true_10min',\n",
    "               'press','press_1min','temp','temp_1min','rh','rh_1min']\n",
    "    return df\n",
    "df_cru = read_routell('20220410')\n",
    "df_cru=df_cru.append(read_routell('20220411'))\n",
    "df_cru=df_cru.append(read_routell('20220412'))\n",
    "df_cru=df_cru.append(read_routell('20220413'))\n",
    "df_cru=df_cru.append(read_routell('20220414'))\n",
    "df_cru=df_cru.append(read_routell('20220415'))\n",
    "df_cru=df_cru.append(read_routell('20220416'))\n",
    "df_cru=df_cru.append(read_routell('20220417'))\n",
    "df_cru=df_cru.append(read_routell('20220418'))\n",
    "df_cru=df_cru.append(read_routell('20220419'))\n",
    "df_cru=df_cru.append(read_routell('20220420'))\n",
    "df_cru=df_cru.append(read_routell('20220421'))\n",
    "df_cru=df_cru.append(read_routell('20220422'))\n",
    "df_cru=df_cru.append(read_routell('20220423'))\n",
    "df_cru=df_cru.append(read_routell('20220424'))\n",
    "df_cru=df_cru.append(read_routell('20220425'))\n",
    "df_cru=df_cru.append(read_routell('20220426'))\n",
    "# pd.set_option('display.max_rows', None)    #显示所有行\n",
    "df_cru = df_cru.reset_index()\n",
    "# display(df_cru)"
   ]
  },
  {
   "cell_type": "code",
   "execution_count": 13,
   "metadata": {},
   "outputs": [],
   "source": [
    "## 清除：船用气象仪中经纬度出现异常的数据\n",
    "df_cru = df_cru[df_cru['lon']!='XXXXX.XXXX']\n",
    "df_cru = df_cru.reset_index()"
   ]
  },
  {
   "cell_type": "code",
   "execution_count": 14,
   "metadata": {},
   "outputs": [],
   "source": [
    "## 处理：船用气象仪中经纬度的表示方式，使之变得规范，方便接下来的处理\n",
    "lon=df_cru['lon'].astype('float')//100+df_cru['lon'].astype('float')/100%1*100/60\n",
    "df_cru['lon']=np.array(lon)\n",
    "lat=df_cru['lat'].astype('float')//100+df_cru['lat'].astype('float')/100%1*100/60\n",
    "df_cru['lat']=np.array(lat)"
   ]
  },
  {
   "cell_type": "code",
   "execution_count": 15,
   "metadata": {},
   "outputs": [],
   "source": [
    "del lon,lat"
   ]
  },
  {
   "cell_type": "markdown",
   "metadata": {},
   "source": [
    "然后，将BC6和船用气象仪两组数据，按照时间进行合并"
   ]
  },
  {
   "cell_type": "code",
   "execution_count": 16,
   "metadata": {},
   "outputs": [],
   "source": [
    "## 首先，调整：船用气象仪时间戳为正常格式\n",
    "for i in range(len(df_cru)):\n",
    "        df_cru.Time[i]='20'+str(df_cru.Time[i])\n",
    "        df_cru.Time[i]=datetime.datetime.strptime(str(df_cru.Time[i]),'%Y%m%d%H%M%S')"
   ]
  },
  {
   "cell_type": "code",
   "execution_count": 17,
   "metadata": {},
   "outputs": [],
   "source": [
    "## 其次，取船用气象仪数据中的整点数据\n",
    "\n",
    "df_cru_oclo = df_cru[df_cru.Time.apply(lambda x:x.minute==0 and x.second==0)]"
   ]
  },
  {
   "cell_type": "code",
   "execution_count": 18,
   "metadata": {},
   "outputs": [],
   "source": [
    "## 合并\n",
    "\n",
    "df_combine = pd.merge(df_cru_oclo,df,on='Time')"
   ]
  },
  {
   "cell_type": "markdown",
   "metadata": {},
   "source": [
    "## BC 和 AAE 的填色图 \n",
    "\n",
    "首先，设定背景底图参数"
   ]
  },
  {
   "cell_type": "code",
   "execution_count": 19,
   "metadata": {},
   "outputs": [],
   "source": [
    "from cartopy.io.shapereader import Reader\n",
    "import matplotlib.pyplot as plt\n",
    "import cartopy.crs as ccrs\n",
    "shp_dir='E:/official_shapefiles/'\n",
    "shp_name='continents_lines.shp'\n",
    "proj=ccrs.PlateCarree()\n",
    "\n",
    "def set_geo(ax):\n",
    "    import cartopy.feature as cf\n",
    "    shp = cf.ShapelyFeature(Reader(shp_dir+shp_name).geometries(), ccrs.PlateCarree())\n",
    "    # proj=ccrs.LambertConformal()\n",
    "    extent=[110,130,24, 38]\n",
    "    ax.set_extent(extent, crs=proj) \n",
    "    ax.add_feature(shp,  linewidth=0.4, edgecolor='black', facecolor='none',alpha=0.5,zorder=4)\n",
    "    #------------------------------------------------------------------------------------------------------------------------------------\n",
    "#     lb=ax.gridlines(draw_labels=None, xlocs=range(122,126,1), ylocs=range(25,33,1), linestyle=(0,(10,10)),\n",
    "#                     linewidth=0.25, color='dimgrey', alpha=0.8, zorder=4)\n",
    "    lb=ax.gridlines(draw_labels=True,x_inline=False, y_inline=False,xlocs=range(115,130,5), ylocs=range(26,38,2),\n",
    "                    linewidth=0.1, color='gray', alpha=0.8, linestyle='--',zorder=11)\n",
    "    lb.top_labels = None\n",
    "    lb.right_labels = None\n",
    "    lb.rotate_labels = False"
   ]
  },
  {
   "cell_type": "code",
   "execution_count": 24,
   "metadata": {},
   "outputs": [],
   "source": [
    "## 绘制BC沿航迹的浓度分布图\n",
    "def plot_route():\n",
    "    import matplotlib.pyplot as plt\n",
    "    plt.rcParams['axes.unicode_minus'] = False \n",
    "    plt.rcParams['font.sans-serif'] = ['Times New Roman']\n",
    "    fig = plt.figure(figsize=(8, 4))\n",
    "    ax = plt.axes(projection=proj)\n",
    "    ax.set_global()\n",
    "    set_geo(ax)\n",
    "\n",
    "#     ax.plot(df_combine.lon,df_combine.lat,\n",
    "#            linewidth=0.5,color='black',zorder=1,label='obs point')\n",
    "    scatter=ax.scatter(df_combine.lon,df_combine.lat,\n",
    "             s=2.5,\n",
    "        #    s=df_combine.temp_1min,# 1分钟平均气温，单位：摄氏度\n",
    "           c=df_combine.BC6/1000,# 880nm, 单位转换: ng/m3->μg/m3\n",
    "        #    vmin=df_combine.BC6.min()/1000, vmax=df_combine.BC6.max()/1000,\n",
    "           cmap=plt.cm.binary,alpha=0.7,zorder=3)\n",
    "\n",
    "    \n",
    "    legend1 = ax.legend(*scatter.legend_elements(num=6),\n",
    "                    loc=\"upper left\", ncol=2,\n",
    "                    title=\"$\\mathrm{BC}_{880} /\\mu g \\cdot m^{-3}$\")\n",
    "    ax.add_artist(legend1)\n",
    "\n",
    "    # handles, labels = scatter.legend_elements(prop=\"sizes\", alpha=0.6)\n",
    "    # legend2 = ax.legend(handles, labels, loc=\"lower right\", title=\"Temp_ave_1min\")\n",
    "\n",
    "\n",
    "    plt.savefig('BC6_in_route_20220705.png',format='png',dpi=600)"
   ]
  },
  {
   "cell_type": "code",
   "execution_count": 25,
   "metadata": {},
   "outputs": [
    {
     "data": {
      "image/png": "[encoded data removed]",
      "text/plain": [
       "<Figure size 576x288 with 1 Axes>"
      ]
     },
     "metadata": {
      "needs_background": "light"
     },
     "output_type": "display_data"
    }
   ],
   "source": [
    "plot_route()"
   ]
  },
  {
   "cell_type": "markdown",
   "metadata": {},
   "source": [
    "## 折线图"
   ]
  },
  {
   "cell_type": "code",
   "execution_count": null,
   "metadata": {
    "ExecuteTime": {
     "end_time": "2022-05-29T09:50:26.558810Z",
     "start_time": "2022-05-29T09:50:23.399843Z"
    },
    "scrolled": true
   },
   "outputs": [],
   "source": [
    "print(len(df_w))\n",
    "np.isinf(aae(df_w['BC2']/1000,df_w['BC5']/1000)).any()\n",
    "def baseset_aae(ax,ytick,df):\n",
    "    from matplotlib.dates import DateFormatter\n",
    "    AAE = aae(df['BC2']/1000,df['BC5']/1000)\n",
    "    mu=np.nanmean(~np.isinf(AAE))\n",
    "    median=AAE.median()\n",
    "    sigma=np.nanstd(~np.isnan(AAE))\n",
    "    textstr = '\\n'.join((\n",
    "    r'$\\mu=%.4f$' % (mu, ),\n",
    "    r'$\\mathrm{median}=%.4f$' % (median, ),\n",
    "    r'$\\sigma=%.4f$' % (sigma, )))\n",
    "    ax.xaxis.set_major_formatter(DateFormatter('%m-%d'))\n",
    "    ax.text(0.7,0.05,textstr, transform=ax.transAxes, fontsize=14)\n",
    "    ax.axhline(y=AAE.median(), c='black',ls='--', lw=1)\n",
    "    ax.set_ylabel(\"$\\mathrm{AAE}_{470-660}$\")\n",
    "    # ax.set_yticks(ytick)\n",
    "    ax.set_xlabel('date(month-day)')\n",
    "    ax.legend()\n",
    "def plot_aae():\n",
    "    import matplotlib.pyplot as plt\n",
    "#     import matplotlib.dates as mdates\n",
    "#     from matplotlib.pyplot import MultipleLocator\n",
    "    plt.rcParams['axes.unicode_minus'] = False \n",
    "    plt.rcParams['font.sans-serif'] = ['Times New Roman']\n",
    "    fig,(ax,ax1) = plt.subplots(2,1,sharey=True, facecolor='w',figsize=(8,6.5))\n",
    "\n",
    "    ax.plot(df_w.Time,aae(df_w['BC2']/1000,df_w['BC5']/1000)#单位转换：ng/m3->μg/m3\n",
    "            ,label='cruise')\n",
    "    ax1.plot(df1_w.Time,aae(df1_w['BC2']/1000,df1_w['BC5']/1000)\n",
    "            ,label='Nuist')\n",
    "\n",
    "    baseset_aae(ax,np.linspace(-2,3,6),df_w)\n",
    "    baseset_aae(ax1,np.linspace(-4,4,5),df1_w)\n",
    "    plt.savefig('aae_20220605.png',dpi=600,bbox_inches='tight',pad_inches=0)\n",
    "plot_aae()    "
   ]
  },
  {
   "cell_type": "code",
   "execution_count": null,
   "metadata": {},
   "outputs": [],
   "source": [
    "def baseset_bc(ax,df):# BC6(880nm)\n",
    "    from matplotlib.dates import DateFormatter\n",
    "    bc = df['BC6']/1000#单位转换：ng/m3->μg/m3\n",
    "    mu=np.nanmean(bc)\n",
    "    median=bc.median()\n",
    "    sigma=np.nanstd(bc)\n",
    "    textstr = '\\n'.join((\n",
    "    r'$\\mu=%.4f$' % (mu, ),\n",
    "    r'$\\mathrm{median}=%.4f$' % (median, ),\n",
    "    r'$\\sigma=%.4f$' % (sigma, )))\n",
    "    ax.xaxis.set_major_formatter(DateFormatter('%m-%d'))\n",
    "    ax.text(0.7,0.05,textstr, transform=ax.transAxes, fontsize=14)\n",
    "    ax.axhline(y=bc.median(), c='black',ls='--', lw=1)\n",
    "    ax.set_ylabel(\"$\\mathrm{BC}_{880}(\\mu g\\cdot m^{-3})$\")#单位转换：ng/m3->μg/m3\n",
    "    # ax.set_yticks(ytick)\n",
    "    ax.set_xlabel('date(month-day)')\n",
    "    ax.legend()\n",
    "def plot_bc():# BC6(880nm)\n",
    "    import matplotlib.pyplot as plt\n",
    "    plt.rcParams['axes.unicode_minus'] = False \n",
    "    plt.rcParams['font.sans-serif'] = ['Times New Roman']\n",
    "    fig,(ax,ax1) = plt.subplots(2,1,sharey=True, facecolor='w',figsize=(8,6.5))\n",
    "\n",
    "    ax.plot(df_w.Time,df_w['BC6']/1000,label='cruise')\n",
    "    ax1.plot(df1_w.Time,df1_w['BC6']/1000,label='Nuist')\n",
    "\n",
    "    baseset_bc(ax,df_w)\n",
    "    baseset_bc(ax1,df1_w)\n",
    "    plt.savefig('bc_20220605.png',dpi=600,bbox_inches='tight',pad_inches=0)\n",
    "plot_bc()    "
   ]
  },
  {
   "cell_type": "code",
   "execution_count": null,
   "metadata": {},
   "outputs": [],
   "source": []
  }
 ],
 "metadata": {
  "interpreter": {
   "hash": "902e6101d154c3ec902b6a686db0f161ecb11054114f3f3d6f617bfc6ab05b5c"
  },
  "kernelspec": {
   "display_name": "Python 3.7.4 ('base')",
   "language": "python",
   "name": "python3"
  },
  "language_info": {
   "codemirror_mode": {
    "name": "ipython",
    "version": 3
   },
   "file_extension": ".py",
   "mimetype": "text/x-python",
   "name": "python",
   "nbconvert_exporter": "python",
   "pygments_lexer": "ipython3",
   "version": "3.7.13"
  },
  "toc": {
   "base_numbering": 1,
   "nav_menu": {},
   "number_sections": true,
   "sideBar": true,
   "skip_h1_title": false,
   "title_cell": "Table of Contents",
   "title_sidebar": "Contents",
   "toc_cell": false,
   "toc_position": {},
   "toc_section_display": true,
   "toc_window_display": false
  },
  "varInspector": {
   "cols": {
    "lenName": 16,
    "lenType": 16,
    "lenVar": 40
   },
   "kernels_config": {
    "python": {
     "delete_cmd_postfix": "",
     "delete_cmd_prefix": "del ",
     "library": "var_list.py",
     "varRefreshCmd": "print(var_dic_list())"
    },
    "r": {
     "delete_cmd_postfix": ") ",
     "delete_cmd_prefix": "rm(",
     "library": "var_list.r",
     "varRefreshCmd": "cat(var_dic_list()) "
    }
   },
   "oldHeight": 170.85,
   "position": {
    "height": "40px",
    "left": "594.16px",
    "right": "20px",
    "top": "9px",
    "width": "454px"
   },
   "types_to_exclude": [
    "module",
    "function",
    "builtin_function_or_method",
    "instance",
    "_Feature"
   ],
   "varInspector_section_display": "none",
   "window_display": true
  }
 },
 "nbformat": 4,
 "nbformat_minor": 2
}
